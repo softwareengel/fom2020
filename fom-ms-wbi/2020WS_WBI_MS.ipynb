{
  "nbformat": 4,
  "nbformat_minor": 0,
  "metadata": {
    "colab": {
      "name": "Kopie von 2020WS-WBI-MS.ipynb",
      "provenance": [],
      "collapsed_sections": [],
      "toc_visible": true,
      "mount_file_id": "12hC2chFiyUm5Rnyu1f78SdqcBlfeJOyp",
      "authorship_tag": "ABX9TyNFP6get8SA8WrXvxsOrlQq",
      "include_colab_link": true
    },
    "kernelspec": {
      "name": "python3",
      "display_name": "Python 3"
    }
  },
  "cells": [
    {
      "cell_type": "markdown",
      "metadata": {
        "id": "view-in-github",
        "colab_type": "text"
      },
      "source": [
        "<a href=\"https://colab.research.google.com/github/softwareengel/fom2020-py/blob/master/fom-ms-wbi/2020WS_WBI_MS.ipynb\" target=\"_parent\"><img src=\"https://colab.research.google.com/assets/colab-badge.svg\" alt=\"Open In Colab\"/></a>"
      ]
    },
    {
      "cell_type": "markdown",
      "metadata": {
        "id": "jzrrxMmTEUDJ"
      },
      "source": [
        "# A03-02\n",
        "\n"
      ]
    },
    {
      "cell_type": "code",
      "metadata": {
        "id": "z6RBaJmsEKVj",
        "outputId": "c6aa5138-e3f9-4094-b121-8f1eda4cdf1c",
        "colab": {
          "base_uri": "https://localhost:8080/",
          "height": 109
        }
      },
      "source": [
        "# Initialisierung\n",
        "import random\n",
        "\n",
        "# geheimzahl = 4712\n",
        "\n",
        "geheimzahl = random.randrange(1,101)\n",
        "print (\"geheimzahl\", geheimzahl)\n",
        "eingabe = 0\n",
        "zaehler = 0\n",
        "maxAnzahl = 7\n",
        "\n",
        "# Schleifenkopf\n",
        "while eingabe != geheimzahl:\n",
        "    # Schleifenkörper\n",
        "    eingabe = int(input(\"Ganze Zahl eingeben: \"))\n",
        "        \n",
        "    if (eingabe < geheimzahl):\n",
        "        print(\"Zahl zu klein\")\n",
        "    if (eingabe > geheimzahl):\n",
        "        print(\"Zahl zu groß\")\n",
        "     \n",
        "    zaehler = zaehler + 1\n",
        "\n",
        "    if zaehler == maxAnzahl:\n",
        "        print (\"max. Rateanzahl erreicht.\")\n",
        "        break\n",
        "\n",
        "    \n",
        "if eingabe == geheimzahl:\n",
        "    print(\"Richtig! Sie haben \", zaehler , \"Versuche benötigt.\")"
      ],
      "execution_count": 1,
      "outputs": [
        {
          "output_type": "stream",
          "text": [
            "geheimzahl 44\n",
            "Ganze Zahl eingeben: 22\n",
            "Zahl zu klein\n",
            "Ganze Zahl eingeben: 44\n",
            "Richtig! Sie haben  2 Versuche benötigt.\n"
          ],
          "name": "stdout"
        }
      ]
    },
    {
      "cell_type": "markdown",
      "metadata": {
        "id": "dHYD2g0eNhfD"
      },
      "source": [
        "# Test von Ratestrategien "
      ]
    },
    {
      "cell_type": "code",
      "metadata": {
        "id": "Ou5bW47QF2Nj",
        "outputId": "f984fc03-4b05-4473-dd7f-971b78f9ad37",
        "colab": {
          "base_uri": "https://localhost:8080/",
          "height": 55
        }
      },
      "source": [
        "import random\n",
        "import matplotlib.pyplot as plt\n",
        "import numpy as np\n",
        "\n",
        "\n",
        "# Initialisierung\n",
        "seed = 1 \n",
        "simCount = 1000\n",
        "is_debug = 0\n",
        "\n",
        "startRange = 1\n",
        "endeRange = 100\n",
        "\n",
        "\n",
        "def ratezahl():\n",
        "\n",
        "    geheimzahl = random.randrange(startRange, endeRange+1)\n",
        "    return geheimzahl\n",
        "\n",
        "\n",
        "def intervallhalbierung(start, ende, history, s):\n",
        "    newTryVal = (start + ende) // 2\n",
        "    if is_debug:\n",
        "        print(\"(\", start, ende, \"): \", newTryVal)\n",
        "    return newTryVal\n",
        "\n",
        "\n",
        "def zufall(start, ende, history, cand):\n",
        "\n",
        "    anz = len(cand)\n",
        "    pos = random.randint(1, anz)\n",
        "    newTryVal = cand[pos-1]\n",
        "    if is_debug:\n",
        "        print(\"(\", start, ende, \"): \", newTryVal)\n",
        "    cand.remove(newTryVal)\n",
        "    return newTryVal\n",
        "\n",
        "\n",
        "def zufallcut(start, ende, history, cand):\n",
        "    delList = list()\n",
        "    for x in cand:\n",
        "        if x < start:\n",
        "            delList += x,\n",
        "        elif x > ende:\n",
        "            delList += x,\n",
        "    for x in delList:\n",
        "        cand.remove(x)\n",
        "\n",
        "    anz = len(cand)\n",
        "    pos = random.randint(1, anz)\n",
        "    newTryVal = cand[pos-1]\n",
        "    if is_debug:\n",
        "        print(\"(\", start, ende, \"): \", newTryVal)\n",
        "    return newTryVal\n",
        "\n",
        "\n",
        "def rateprogramm(startRange, endeRange, f):\n",
        "\n",
        "    geheimzahl = ratezahl()\n",
        "\n",
        "    min = startRange\n",
        "    max = endeRange\n",
        "    if is_debug:\n",
        "        print(\"geheimzahl\", geheimzahl)\n",
        "\n",
        "    eingabe = -1\n",
        "    zaehler = 1\n",
        "\n",
        "    # Schleifenkopf\n",
        "    h = list()\n",
        "    cand = list(range(min, max+1))\n",
        "\n",
        "    while eingabe != geheimzahl:\n",
        "\n",
        "        # Schleifenkörper\n",
        "        # eingabe = int(input(\"Ganze Zahl eingeben: \"))\n",
        "\n",
        "        eingabe = f(min, max, h, cand)\n",
        "\n",
        "        # print(\"Ratezahl: \", eingabe)\n",
        "        if (eingabe < geheimzahl):\n",
        "            if is_debug:\n",
        "                print(\"Zahl zu klein\")\n",
        "            min = eingabe + 1\n",
        "            h.append([geheimzahl, zaehler, eingabe, -1])\n",
        "\n",
        "        if (eingabe > geheimzahl):\n",
        "            if is_debug:\n",
        "                print(\"Zahl zu groß\")\n",
        "            max = eingabe - 1\n",
        "            h.append([geheimzahl, zaehler, eingabe, 1])\n",
        "        if eingabe == geheimzahl:\n",
        "            h.append([geheimzahl, zaehler, eingabe, 0])\n",
        "            break\n",
        "        zaehler = zaehler + 1\n",
        "\n",
        "    if eingabe == geheimzahl:\n",
        "        if is_debug:\n",
        "            print(\"Richtig! Sie haben \", zaehler, \"Versuche benötigt.\")\n",
        "    return h\n",
        "\n",
        "\n",
        "def simRun(min, max, simCount, f):\n",
        "    if seed == 0:\n",
        "        random.seed()\n",
        "    else:\n",
        "        random.seed(seed)\n",
        "    erglist = list()\n",
        "    for x in range(simCount):\n",
        "        erg = rateprogramm(min, max, f)\n",
        "        erglist.append(erg)\n",
        "    return erglist\n",
        "\n",
        "\n",
        "def simulation(min, max):\n",
        "\n",
        "    ergLists = list()\n",
        "\n",
        "    erglist = simRun(min, max, simCount, zufall)\n",
        "    ergLists.append(erglist)\n",
        "    erglist = simRun(min, max, simCount, zufallcut)\n",
        "    ergLists.append(erglist)\n",
        "    erglist = simRun(min, max, simCount, intervallhalbierung)\n",
        "    ergLists.append(erglist)\n",
        "\n",
        "    tryLists = list()\n",
        "\n",
        "    for l in ergLists:\n",
        "        tryList = list()\n",
        "        for res in l:\n",
        "            tryList += len(res),\n",
        "        # print(tryList)\n",
        "        tryLists.append(tryList)\n",
        "    \n",
        "    return tryLists\n",
        "\n",
        "\n",
        "trylists = simulation(startRange, endeRange)\n",
        "print (trylists)\n",
        "\n",
        "\n",
        "\n",
        "\n"
      ],
      "execution_count": 2,
      "outputs": [
        {
          "output_type": "stream",
          "text": [
            "[[50, 92, 77, 25, 31, 66, 13, 25, 56, 17, 88, 11, 55, 56, 84, 15, 75, 15, 15, 21, 68, 69, 15, 19, 90, 78, 10, 2, 10, 25, 4, 58, 82, 58, 3, 42, 21, 60, 96, 66, 47, 95, 5, 33, 77, 1, 79, 22, 46, 48, 44, 24, 80, 45, 24, 97, 7, 53, 89, 67, 75, 8, 84, 33, 31, 11, 7, 75, 29, 66, 65, 39, 90, 18, 72, 82, 12, 94, 49, 60, 86, 48, 88, 65, 30, 27, 91, 99, 66, 45, 16, 31, 3, 61, 12, 39, 69, 27, 38, 55, 100, 88, 98, 68, 33, 49, 59, 27, 34, 93, 23, 10, 69, 31, 82, 98, 16, 82, 1, 66, 33, 80, 45, 9, 40, 77, 58, 10, 49, 9, 58, 30, 26, 63, 94, 6, 72, 88, 53, 49, 5, 4, 100, 1, 100, 65, 60, 84, 99, 37, 94, 21, 23, 10, 81, 26, 90, 69, 80, 63, 97, 11, 11, 58, 79, 74, 79, 19, 98, 38, 18, 61, 33, 84, 78, 21, 58, 15, 25, 49, 51, 42, 6, 9, 83, 92, 63, 41, 37, 23, 8, 28, 8, 67, 4, 66, 53, 78, 80, 51, 60, 45, 29, 15, 52, 41, 67, 76, 71, 55, 7, 8, 68, 2, 43, 25, 37, 35, 68, 24, 75, 75, 76, 58, 95, 1, 94, 4, 33, 82, 81, 56, 50, 2, 49, 50, 39, 45, 39, 92, 32, 45, 48, 81, 11, 77, 27, 86, 23, 49, 9, 85, 5, 17, 18, 97, 47, 99, 95, 37, 82, 25, 25, 82, 94, 2, 80, 65, 53, 74, 3, 28, 91, 9, 11, 35, 76, 83, 35, 23, 66, 22, 54, 83, 75, 71, 59, 70, 4, 73, 28, 41, 61, 85, 63, 34, 13, 3, 12, 84, 97, 37, 18, 63, 60, 65, 21, 38, 92, 16, 68, 44, 17, 2, 43, 36, 78, 41, 7, 48, 50, 66, 14, 39, 87, 85, 44, 50, 21, 95, 72, 80, 81, 12, 47, 55, 71, 28, 32, 100, 20, 94, 38, 52, 48, 32, 31, 94, 78, 7, 99, 63, 59, 73, 86, 94, 23, 62, 69, 5, 92, 42, 83, 98, 52, 46, 72, 64, 48, 30, 7, 12, 3, 36, 92, 74, 17, 42, 41, 90, 5, 26, 28, 51, 70, 75, 53, 68, 27, 90, 38, 45, 63, 37, 4, 81, 39, 26, 62, 22, 23, 20, 35, 9, 89, 32, 20, 8, 70, 54, 17, 11, 1, 1, 44, 64, 22, 64, 25, 53, 29, 1, 40, 56, 33, 35, 56, 52, 60, 93, 57, 26, 3, 71, 57, 44, 69, 49, 44, 62, 9, 85, 48, 8, 53, 13, 57, 52, 68, 26, 28, 69, 66, 5, 87, 11, 45, 67, 75, 2, 95, 95, 81, 20, 95, 55, 29, 41, 15, 59, 62, 76, 27, 3, 33, 3, 8, 97, 7, 94, 12, 59, 98, 19, 25, 33, 24, 63, 25, 50, 75, 88, 16, 74, 62, 34, 41, 31, 93, 93, 30, 34, 14, 86, 28, 6, 7, 76, 24, 53, 68, 65, 64, 80, 14, 25, 6, 30, 10, 86, 32, 88, 89, 96, 79, 26, 4, 61, 66, 19, 56, 78, 83, 83, 17, 21, 85, 65, 92, 40, 23, 28, 30, 86, 98, 43, 3, 37, 21, 36, 52, 21, 21, 73, 98, 30, 33, 15, 48, 53, 73, 30, 37, 47, 14, 11, 77, 83, 41, 83, 81, 66, 45, 6, 42, 2, 27, 91, 76, 47, 74, 1, 67, 21, 87, 33, 57, 31, 49, 64, 17, 27, 97, 69, 69, 34, 61, 26, 25, 28, 68, 27, 50, 17, 85, 40, 22, 51, 75, 21, 41, 31, 94, 19, 35, 84, 94, 31, 79, 60, 12, 41, 29, 84, 65, 38, 68, 62, 26, 78, 53, 70, 49, 63, 33, 34, 18, 43, 72, 57, 68, 54, 14, 79, 11, 3, 19, 68, 28, 81, 51, 9, 51, 66, 47, 11, 90, 18, 51, 45, 9, 100, 49, 48, 75, 90, 87, 7, 29, 26, 91, 46, 23, 3, 12, 27, 88, 99, 48, 16, 19, 57, 38, 61, 11, 98, 72, 89, 60, 68, 8, 50, 36, 36, 20, 35, 52, 92, 3, 36, 75, 73, 78, 41, 44, 24, 12, 48, 92, 37, 53, 53, 85, 21, 43, 89, 8, 69, 71, 38, 94, 45, 27, 64, 42, 87, 83, 6, 68, 3, 97, 61, 13, 96, 51, 4, 76, 7, 73, 30, 30, 25, 3, 32, 87, 78, 24, 86, 12, 32, 1, 2, 84, 27, 48, 61, 58, 54, 53, 82, 27, 8, 72, 42, 72, 62, 11, 50, 95, 51, 20, 32, 75, 50, 53, 36, 58, 74, 58, 14, 11, 30, 64, 5, 69, 80, 71, 35, 97, 61, 88, 1, 74, 30, 77, 97, 97, 31, 84, 89, 91, 86, 7, 55, 77, 89, 65, 3, 41, 6, 7, 5, 42, 66, 55, 100, 14, 14, 53, 86, 66, 89, 63, 31, 83, 13, 47, 47, 16, 44, 54, 94, 43, 91, 30, 85, 12, 84, 46, 63, 34, 73, 4, 7, 17, 4, 28, 18, 31, 23, 66, 68, 51, 6, 70, 21, 89, 70, 11, 24, 100, 73, 91, 55, 88, 63, 98, 88, 77, 70, 10, 92, 94, 67, 12, 50, 25, 85, 77, 66, 48, 24, 97, 80, 86, 62, 36, 64, 95, 5, 72, 39, 26, 13, 77, 4, 85, 66, 45, 35, 66, 60, 15, 40, 95, 74, 62, 90, 92, 48, 8, 66, 11, 39, 33, 15, 39, 88, 86, 48, 32, 61, 45, 2, 54, 53, 29, 46, 62, 32, 18, 7, 95, 94, 45, 91, 68, 42, 44, 12, 25, 54, 37, 92, 80, 44, 89, 21, 68, 12, 81, 39, 8, 66, 23, 65, 37, 9, 54, 80, 95, 48, 100, 24, 90, 87, 97, 15, 24, 85, 96, 8, 100, 7, 14, 80, 75, 10, 37, 93, 62, 76, 96, 92, 54, 26, 90, 52, 5, 7, 37, 8, 21, 76, 30, 88, 82, 34, 81, 36], [9, 11, 12, 11, 6, 7, 5, 12, 6, 5, 8, 1, 6, 8, 6, 10, 6, 7, 9, 7, 9, 7, 7, 12, 12, 4, 6, 6, 2, 6, 8, 11, 7, 9, 7, 7, 10, 8, 7, 12, 5, 7, 6, 7, 1, 12, 5, 9, 3, 10, 6, 8, 9, 8, 7, 12, 7, 6, 7, 6, 8, 5, 5, 8, 8, 1, 7, 7, 6, 5, 13, 6, 9, 12, 7, 10, 10, 4, 9, 11, 9, 4, 5, 8, 8, 6, 5, 6, 9, 8, 6, 9, 10, 8, 8, 10, 7, 6, 10, 15, 2, 6, 7, 5, 10, 6, 6, 12, 4, 10, 4, 1, 7, 10, 6, 6, 6, 6, 4, 8, 7, 4, 6, 6, 7, 8, 9, 6, 7, 6, 7, 4, 6, 7, 5, 8, 7, 4, 8, 4, 6, 11, 3, 11, 2, 4, 8, 8, 8, 7, 7, 12, 11, 11, 11, 10, 5, 10, 11, 4, 8, 4, 8, 8, 9, 5, 10, 9, 9, 7, 9, 7, 6, 5, 7, 6, 7, 7, 11, 7, 6, 7, 7, 4, 6, 12, 4, 6, 13, 12, 3, 7, 8, 1, 9, 4, 4, 10, 8, 8, 9, 11, 11, 7, 5, 6, 5, 10, 4, 5, 9, 9, 9, 8, 9, 7, 7, 9, 1, 12, 10, 6, 3, 14, 7, 9, 11, 5, 7, 10, 11, 7, 4, 5, 6, 8, 8, 6, 7, 5, 8, 9, 10, 6, 7, 8, 6, 5, 7, 11, 10, 7, 8, 3, 6, 4, 9, 14, 4, 12, 7, 7, 7, 10, 9, 10, 8, 6, 6, 3, 6, 5, 4, 8, 4, 8, 12, 3, 5, 4, 8, 7, 8, 7, 6, 6, 7, 12, 10, 4, 3, 5, 7, 4, 6, 10, 6, 9, 7, 5, 12, 13, 10, 11, 5, 5, 1, 9, 4, 8, 9, 11, 6, 8, 10, 7, 7, 6, 7, 6, 8, 10, 6, 8, 7, 15, 9, 9, 9, 10, 7, 7, 9, 6, 6, 8, 9, 4, 6, 8, 7, 8, 10, 5, 5, 6, 9, 8, 6, 10, 4, 9, 6, 9, 12, 9, 7, 5, 11, 9, 10, 9, 4, 7, 4, 5, 7, 13, 13, 10, 3, 3, 7, 9, 8, 10, 8, 3, 5, 5, 4, 5, 14, 8, 11, 7, 6, 8, 6, 6, 9, 11, 6, 8, 8, 11, 7, 6, 8, 5, 8, 5, 4, 8, 8, 13, 8, 14, 9, 8, 1, 10, 10, 8, 8, 9, 12, 7, 8, 5, 14, 9, 7, 8, 6, 9, 4, 12, 8, 7, 8, 4, 7, 8, 7, 9, 7, 7, 11, 8, 6, 10, 4, 5, 10, 9, 7, 7, 5, 5, 4, 10, 7, 8, 2, 13, 9, 10, 10, 7, 3, 8, 8, 6, 6, 14, 9, 8, 5, 13, 8, 6, 5, 5, 2, 6, 7, 5, 8, 8, 12, 4, 8, 10, 10, 6, 5, 3, 8, 6, 8, 4, 6, 11, 6, 2, 14, 9, 11, 6, 10, 5, 10, 5, 6, 9, 14, 6, 9, 9, 12, 7, 8, 9, 6, 6, 12, 6, 4, 8, 6, 5, 9, 9, 4, 6, 8, 7, 6, 9, 7, 4, 6, 12, 8, 9, 8, 5, 4, 7, 5, 4, 5, 7, 7, 10, 9, 10, 4, 12, 11, 6, 13, 4, 7, 6, 6, 7, 6, 7, 5, 8, 5, 4, 6, 6, 9, 4, 4, 10, 9, 8, 10, 10, 7, 12, 8, 5, 10, 12, 4, 8, 5, 10, 7, 8, 6, 4, 6, 11, 4, 8, 7, 4, 13, 9, 10, 4, 8, 6, 6, 9, 7, 6, 3, 7, 7, 3, 9, 10, 9, 6, 8, 6, 7, 7, 1, 12, 7, 8, 7, 8, 5, 9, 12, 9, 9, 10, 8, 9, 7, 8, 7, 7, 7, 4, 9, 8, 8, 5, 5, 5, 5, 7, 10, 3, 7, 5, 10, 5, 6, 8, 4, 9, 10, 2, 7, 9, 5, 6, 7, 10, 10, 7, 7, 6, 10, 8, 7, 3, 9, 9, 3, 8, 9, 7, 8, 7, 7, 12, 6, 9, 3, 5, 10, 8, 6, 5, 1, 8, 6, 5, 10, 11, 5, 8, 7, 6, 4, 8, 5, 6, 11, 8, 8, 11, 7, 6, 9, 11, 10, 7, 7, 6, 8, 10, 11, 9, 5, 7, 7, 8, 6, 4, 7, 5, 2, 10, 7, 5, 11, 9, 7, 7, 8, 3, 7, 6, 4, 6, 7, 9, 10, 6, 7, 6, 10, 9, 9, 7, 5, 8, 10, 8, 2, 3, 6, 5, 7, 11, 11, 8, 9, 7, 10, 3, 7, 6, 4, 6, 5, 4, 6, 5, 5, 4, 9, 9, 8, 4, 5, 6, 7, 11, 5, 7, 6, 6, 11, 7, 6, 5, 5, 4, 6, 5, 7, 5, 10, 7, 5, 10, 11, 7, 6, 10, 9, 4, 7, 7, 8, 5, 6, 7, 10, 5, 7, 12, 11, 4, 2, 12, 7, 5, 10, 7, 7, 7, 12, 7, 13, 12, 12, 7, 4, 8, 4, 9, 2, 1, 6, 10, 8, 5, 8, 9, 6, 5, 6, 7, 4, 5, 12, 9, 8, 5, 11, 10, 10, 11, 3, 6, 14, 5, 10, 5, 6, 8, 10, 5, 9, 7, 9, 10, 10, 7, 6, 5, 6, 10, 6, 9, 8, 11, 8, 5, 7, 14, 11, 10, 15, 10, 10, 7, 12, 2, 10, 8, 6, 9, 8, 10, 13, 1, 10, 8, 6, 3, 12, 6, 9, 9, 5, 10, 11, 10, 11, 8, 7, 7, 1, 9, 8, 8, 9, 9, 12, 7, 9, 9, 6, 7, 2, 8, 10, 8, 6, 11, 6, 7, 7, 10, 7, 9, 5, 9, 7, 9, 7, 2, 12, 7, 9, 9, 8, 8, 10, 7, 5, 7, 2, 12, 6, 9, 7, 10, 9, 15, 12, 9, 9, 3, 11, 8, 6, 8, 6, 3, 6, 12, 5, 6, 10, 6, 8, 5, 8, 8, 7, 7, 5, 9, 8, 10, 6, 7, 10, 3, 11, 5], [4, 6, 7, 5, 7, 6, 7, 7, 7, 7, 5, 7, 7, 6, 6, 6, 1, 4, 5, 7, 6, 6, 7, 7, 6, 7, 7, 6, 7, 6, 6, 5, 6, 5, 7, 7, 7, 3, 5, 7, 7, 6, 4, 6, 7, 6, 7, 5, 7, 7, 7, 7, 6, 7, 5, 6, 5, 6, 7, 7, 6, 7, 4, 7, 6, 6, 7, 4, 7, 6, 5, 7, 5, 6, 2, 7, 3, 6, 7, 5, 6, 6, 7, 3, 6, 7, 7, 6, 6, 6, 7, 5, 7, 7, 7, 6, 6, 3, 6, 7, 6, 7, 7, 5, 7, 6, 6, 6, 4, 6, 7, 4, 5, 5, 6, 6, 2, 6, 7, 7, 7, 5, 7, 7, 6, 6, 7, 5, 7, 7, 6, 7, 7, 5, 5, 6, 7, 5, 5, 4, 6, 1, 6, 6, 7, 7, 7, 7, 7, 7, 7, 3, 7, 6, 5, 6, 5, 5, 6, 5, 6, 7, 6, 6, 7, 7, 6, 4, 5, 7, 6, 7, 6, 6, 5, 2, 7, 3, 5, 7, 7, 7, 6, 7, 5, 7, 7, 5, 5, 7, 6, 6, 5, 7, 7, 7, 6, 5, 7, 5, 7, 4, 7, 7, 6, 7, 6, 6, 5, 7, 7, 7, 7, 5, 6, 5, 1, 6, 6, 2, 5, 7, 7, 4, 6, 7, 5, 4, 5, 6, 5, 6, 6, 7, 7, 5, 7, 5, 5, 7, 7, 7, 6, 4, 6, 7, 7, 6, 4, 5, 6, 6, 7, 7, 7, 7, 4, 7, 7, 6, 7, 7, 5, 6, 5, 6, 6, 5, 7, 7, 5, 6, 6, 7, 7, 7, 7, 7, 6, 5, 6, 5, 7, 7, 5, 7, 6, 7, 7, 6, 7, 6, 7, 7, 7, 4, 6, 2, 7, 7, 6, 1, 6, 5, 7, 5, 7, 6, 7, 3, 5, 5, 6, 7, 6, 4, 6, 7, 5, 6, 7, 6, 7, 5, 7, 3, 6, 6, 6, 6, 4, 5, 7, 4, 7, 4, 7, 7, 6, 5, 6, 7, 4, 7, 5, 7, 6, 6, 6, 5, 6, 4, 5, 7, 6, 6, 4, 2, 5, 6, 7, 7, 4, 5, 6, 7, 6, 7, 6, 5, 6, 6, 7, 6, 7, 5, 6, 6, 7, 6, 7, 6, 6, 6, 5, 5, 7, 7, 4, 6, 7, 6, 6, 7, 3, 5, 5, 4, 2, 4, 6, 6, 5, 5, 7, 7, 3, 4, 5, 7, 7, 4, 7, 7, 6, 5, 7, 6, 3, 6, 6, 7, 5, 6, 4, 6, 7, 6, 7, 7, 6, 7, 6, 6, 7, 5, 5, 6, 7, 5, 5, 7, 5, 7, 7, 7, 6, 7, 7, 5, 5, 7, 7, 7, 5, 6, 6, 7, 7, 7, 3, 5, 7, 3, 5, 7, 7, 6, 7, 1, 5, 4, 7, 7, 6, 2, 7, 6, 4, 6, 7, 6, 2, 7, 3, 6, 6, 5, 6, 7, 6, 6, 5, 6, 4, 6, 5, 6, 7, 6, 5, 5, 7, 7, 7, 6, 5, 7, 7, 6, 6, 6, 6, 6, 7, 7, 6, 6, 5, 7, 5, 6, 5, 6, 7, 7, 6, 7, 7, 7, 7, 6, 7, 7, 5, 7, 6, 7, 6, 7, 4, 6, 5, 6, 6, 6, 6, 7, 7, 5, 3, 7, 4, 5, 7, 7, 6, 6, 5, 7, 6, 6, 7, 5, 6, 6, 7, 6, 7, 5, 7, 6, 5, 2, 4, 6, 7, 4, 5, 7, 6, 6, 7, 6, 6, 3, 7, 6, 6, 6, 4, 6, 5, 5, 6, 3, 6, 4, 6, 4, 6, 7, 3, 3, 6, 6, 5, 6, 7, 6, 4, 5, 7, 7, 6, 6, 6, 7, 6, 7, 6, 5, 6, 6, 7, 5, 7, 6, 7, 5, 6, 7, 7, 7, 6, 6, 7, 7, 6, 5, 6, 7, 7, 6, 7, 7, 7, 5, 6, 7, 5, 6, 7, 3, 6, 6, 6, 7, 1, 6, 7, 7, 4, 4, 4, 3, 7, 4, 6, 6, 6, 7, 4, 7, 6, 7, 3, 7, 7, 6, 4, 7, 4, 6, 7, 7, 6, 7, 7, 6, 5, 6, 4, 7, 6, 5, 6, 7, 6, 7, 6, 7, 7, 7, 6, 2, 4, 6, 2, 5, 6, 4, 5, 6, 5, 7, 6, 3, 6, 7, 6, 6, 5, 2, 5, 7, 3, 7, 7, 7, 5, 6, 6, 6, 6, 7, 7, 1, 7, 3, 7, 6, 6, 6, 7, 7, 7, 6, 7, 7, 7, 5, 4, 6, 5, 6, 7, 5, 4, 5, 7, 5, 7, 4, 7, 6, 6, 6, 6, 7, 7, 5, 7, 7, 6, 4, 3, 7, 7, 5, 7, 7, 7, 7, 7, 6, 7, 6, 7, 7, 6, 4, 6, 6, 6, 7, 7, 5, 7, 6, 5, 7, 7, 7, 7, 6, 4, 6, 7, 4, 6, 7, 1, 2, 7, 7, 6, 7, 2, 4, 7, 7, 5, 7, 7, 6, 6, 5, 6, 4, 5, 5, 7, 4, 7, 6, 7, 6, 6, 6, 6, 6, 7, 5, 7, 7, 5, 5, 5, 3, 7, 7, 7, 6, 5, 6, 7, 6, 6, 4, 6, 6, 6, 7, 6, 7, 5, 5, 5, 7, 6, 5, 7, 5, 5, 5, 6, 3, 7, 6, 6, 7, 5, 7, 7, 4, 7, 4, 4, 6, 5, 6, 7, 7, 7, 6, 6, 6, 7, 6, 6, 7, 7, 5, 6, 6, 7, 6, 5, 6, 6, 7, 6, 7, 7, 6, 3, 5, 6, 4, 6, 6, 5, 6, 5, 6, 7, 6, 7, 7, 6, 4, 7, 6, 6, 2, 6, 4, 4, 7, 2, 6, 2, 4, 6, 5, 5, 5, 4, 5, 4, 7, 4, 6, 6, 7, 5, 5, 7, 4, 5, 6, 7, 6, 3, 5, 5, 7, 7, 6, 7, 7, 6, 7, 4, 7, 7, 5, 5, 5, 3, 7, 7, 5, 4, 7, 6, 6, 6, 7, 7, 6, 6, 6, 6, 6, 6, 7, 7, 7]]\n"
          ],
          "name": "stdout"
        }
      ]
    },
    {
      "cell_type": "code",
      "metadata": {
        "id": "TLU47EwyGB7V",
        "outputId": "3fac27d4-6b06-4bfd-d141-dcdfbde90876",
        "colab": {
          "base_uri": "https://localhost:8080/",
          "height": 297
        }
      },
      "source": [
        "import random\n",
        "import matplotlib.pyplot as plt\n",
        "import numpy as np\n",
        "def plot(all_data):\n",
        "\n",
        "    fig, (ax0, ax1, ax2, ax3, ax4) = plt.subplots(ncols=5, figsize=(8, 4))\n",
        "\n",
        "    ax0.hist(all_data[0], 20, density =True, histtype='stepfilled', facecolor='g', alpha=0.75)\n",
        "    ax0.set_title('Random f1 ')\n",
        "\n",
        "    ax1.hist(all_data[1], 20, density=1,\n",
        "             histtype='stepfilled', facecolor='g', alpha=0.75)\n",
        "    ax1.set_title('Random Cut  f2')\n",
        "\n",
        "    ax2.hist(all_data[2], 20, density=1,\n",
        "             histtype='stepfilled', facecolor='g', alpha=0.75)\n",
        "    ax2.set_title('Intervall f3')\n",
        "\n",
        "    bplot1 = ax3.boxplot(all_data,\n",
        "                            vert=True,   # vertical box aligmnent\n",
        "                            patch_artist=True)   # fill with color\n",
        "\n",
        "    # fill with colors\n",
        "    colors = ['pink', 'lightblue', 'lightgreen']\n",
        "    # for bplot in (bplot1, bplot2):\n",
        "    for bplot in (bplot1, ):\n",
        "        for patch, color in zip(bplot['boxes'], colors):\n",
        "            patch.set_facecolor(color)\n",
        "    # adding horizontal grid lines\n",
        "    ax3.yaxis.grid(True)\n",
        "    ax3.set_xticks([y+1 for y in range(len(all_data))], )\n",
        "\n",
        "    plt.setp(ax3, xticks=[y+1 for y in range(len(all_data))],\n",
        "            xticklabels=['f1', 'f2', 'f3', 'f4'])\n",
        "\n",
        "    all_data = all_data[1:]\n",
        "    bplot2 = ax4.boxplot(all_data,\n",
        "                            vert=True,   # vertical box aligmnent\n",
        "                            patch_artist=True)   # fill with color\n",
        "    # fill with colors\n",
        "    colors = ['pink', 'lightblue', 'lightgreen']\n",
        "    # for bplot in (bplot1, bplot2):\n",
        "    for bplot in (bplot2, ):\n",
        "        for patch, color in zip(bplot['boxes'], colors):\n",
        "            patch.set_facecolor(color)\n",
        "    # adding horizontal grid lines\n",
        "    ax4.yaxis.grid(True)\n",
        "    ax4.set_xticks([y+1 for y in range(len(all_data))], )\n",
        "    \n",
        "    plt.setp(ax4, xticks=[y+1 for y in range(len(all_data))],\n",
        "            xticklabels=['f1', 'f2', 'f3', 'f4'])\n",
        "\n",
        "\n",
        "    plt.setp(ax4, xticks=[y+1 for y in range(len(all_data))],\n",
        "            xticklabels=[ 'f2', 'f3', 'f4'])\n",
        "\n",
        "    fig.tight_layout()\n",
        "    plt.show()\n",
        "plot (trylists)"
      ],
      "execution_count": 7,
      "outputs": [
        {
          "output_type": "display_data",
          "data": {
            "image/png": "[encoded data removed]",
            "text/plain": [
              "<Figure size 576x288 with 5 Axes>"
            ]
          },
          "metadata": {
            "tags": [],
            "needs_background": "light"
          }
        }
      ]
    }
  ]
}