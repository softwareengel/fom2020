{
  "nbformat": 4,
  "nbformat_minor": 0,
  "metadata": {
    "colab": {
      "name": "2020WS-WBI-MS.ipynb",
      "provenance": [],
      "mount_file_id": "12hC2chFiyUm5Rnyu1f78SdqcBlfeJOyp",
      "authorship_tag": "ABX9TyMovJhJiKc8EiSeIAZHCBow",
      "include_colab_link": true
    },
    "kernelspec": {
      "name": "python3",
      "display_name": "Python 3"
    }
  },
  "cells": [
    {
      "cell_type": "markdown",
      "metadata": {
        "id": "view-in-github",
        "colab_type": "text"
      },
      "source": [
        "<a href=\"https://colab.research.google.com/github/softwareengel/fom2020-py/blob/master/fom-ms-wbi/2020WS_WBI_MS.ipynb\" target=\"_parent\"><img src=\"https://colab.research.google.com/assets/colab-badge.svg\" alt=\"Open In Colab\"/></a>"
      ]
    },
    {
      "cell_type": "markdown",
      "metadata": {
        "id": "jzrrxMmTEUDJ"
      },
      "source": [
        "# A03-02\n",
        "\n"
      ]
    },
    {
      "cell_type": "code",
      "metadata": {
        "id": "z6RBaJmsEKVj",
        "outputId": "ca4cd69e-3749-4142-ac6f-bd22c8593ea5",
        "colab": {
          "base_uri": "https://localhost:8080/",
          "height": 109
        }
      },
      "source": [
        "# Initialisierung\n",
        "import random\n",
        "\n",
        "# geheimzahl = 4712\n",
        "\n",
        "geheimzahl = random.randrange(1,101)\n",
        "print (\"geheimzahl\", geheimzahl)\n",
        "eingabe = 0\n",
        "zaehler = 0\n",
        "maxAnzahl = 7\n",
        "\n",
        "# Schleifenkopf\n",
        "while eingabe != geheimzahl:\n",
        "    # Schleifenkörper\n",
        "    eingabe = int(input(\"Ganze Zahl eingeben: \"))\n",
        "        \n",
        "    if (eingabe < geheimzahl):\n",
        "        print(\"Zahl zu klein\")\n",
        "    if (eingabe > geheimzahl):\n",
        "        print(\"Zahl zu groß\")\n",
        "     \n",
        "    zaehler = zaehler + 1\n",
        "\n",
        "    if zaehler == maxAnzahl:\n",
        "        print (\"max. Rateanzahl erreicht.\")\n",
        "        break\n",
        "\n",
        "    \n",
        "if eingabe == geheimzahl:\n",
        "    print(\"Richtig! Sie haben \", zaehler , \"Versuche benötigt.\")"
      ],
      "execution_count": 1,
      "outputs": [
        {
          "output_type": "stream",
          "text": [
            "geheimzahl 21\n",
            "Ganze Zahl eingeben: 22\n",
            "Zahl zu groß\n",
            "Ganze Zahl eingeben: 21\n",
            "Richtig! Sie haben  2 Versuche benötigt.\n"
          ],
          "name": "stdout"
        }
      ]
    },
    {
      "cell_type": "markdown",
      "metadata": {
        "id": "dHYD2g0eNhfD"
      },
      "source": [
        "# Neuer Abschnitt"
      ]
    }
  ]
}